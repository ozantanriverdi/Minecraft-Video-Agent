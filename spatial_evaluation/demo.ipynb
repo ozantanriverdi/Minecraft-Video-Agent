{
 "cells": [
  {
   "cell_type": "code",
   "execution_count": 14,
   "metadata": {},
   "outputs": [],
   "source": [
    "import json\n",
    "import numpy as np\n",
    "import ast\n",
    "from scipy.stats import mode"
   ]
  },
  {
   "cell_type": "markdown",
   "metadata": {},
   "source": [
    "## The impact of denser lidar observations"
   ]
  },
  {
   "cell_type": "code",
   "execution_count": 10,
   "metadata": {},
   "outputs": [
    {
     "name": "stdout",
     "output_type": "stream",
     "text": [
      "['sheep', 'chicken']\n",
      "Entity 1:\n",
      "x: [-313. -315. -315. -308. -308.] y: [70. 70. 70. 70. 70.] z: [1155. 1156. 1157. 1162. 1164.]\n",
      "Entity 2:\n",
      "x: [] y: [] z: []\n"
     ]
    }
   ],
   "source": [
    "SAMPLE_DIR = \"samples/obs/20250303_140115\"\n",
    "OBS_JSON = \"obs_step_0_0_0.json\"\n",
    "\n",
    "INFO_DIR = \"samples/info/20250303_140115\"\n",
    "INFO_JSON = \"info_step_0_0.json\"\n",
    "\n",
    "with open(f\"{INFO_DIR}/{INFO_JSON}\", \"r\") as f:\n",
    "    info = json.load(f)\n",
    "\n",
    "with open(f\"{SAMPLE_DIR}/{OBS_JSON}\", \"r\") as f:\n",
    "    obs = json.load(f)\n",
    "\n",
    "entities_spawned = info.get(\"entities_spawned\")\n",
    "print(entities_spawned)\n",
    "entities_observed = np.array(ast.literal_eval(obs[\"rays\"][\"entity_name\"]))\n",
    "traced_block_x = np.array(ast.literal_eval(obs[\"rays\"][\"traced_block_x\"]))\n",
    "traced_block_y = np.array(ast.literal_eval(obs[\"rays\"][\"traced_block_y\"]))\n",
    "traced_block_z = np.array(ast.literal_eval(obs[\"rays\"][\"traced_block_z\"]))\n",
    "entity_1_idx = np.where(entities_observed == entities_spawned[0])[0]\n",
    "entity_2_idx = np.where(entities_observed == entities_spawned[1])[0]\n",
    "print(f\"Entity 1:\\nx: {traced_block_x[entity_1_idx]} y: {traced_block_y[entity_1_idx]} z: {traced_block_z[entity_1_idx]}\")\n",
    "print(f\"Entity 2:\\nx: {traced_block_x[entity_2_idx]} y: {traced_block_y[entity_2_idx]} z: {traced_block_z[entity_2_idx]}\")"
   ]
  },
  {
   "cell_type": "code",
   "execution_count": 15,
   "metadata": {},
   "outputs": [
    {
     "name": "stdout",
     "output_type": "stream",
     "text": [
      "['spider', 'horse', 'pig', 'cow']\n",
      "Entity 1:\n",
      "x: [1948. 1947. 1947. 1948. 1947. 1947. 1948. 1947. 1947. 1948. 1948. 1948.\n",
      " 1948. 1948.] y: [64. 65. 65. 65. 65. 65. 65. 65. 65. 65. 65. 65. 65. 65.] z: [-199. -197. -199. -198. -197. -199. -198. -197. -197. -195. -198. -198.\n",
      " -198. -198.]\n",
      "Entity 2:\n",
      "x: [1945. 1946. 1946. 1947. 1947. 1948. 1946. 1946. 1947. 1947. 1948. 1948.\n",
      " 1946. 1946. 1947. 1947. 1948. 1948. 1946. 1946. 1947. 1947. 1948. 1948.\n",
      " 1946. 1946. 1947. 1947. 1948. 1948. 1946. 1946. 1947. 1947. 1948. 1948.] y: [65. 65. 65. 65. 65. 65. 66. 66. 66. 66. 66. 66. 66. 66. 66. 66. 66. 66.\n",
      " 67. 67. 67. 67. 67. 67. 67. 67. 67. 67. 67. 67. 68. 68. 68. 68. 68. 68.] z: [-197. -193. -193. -193. -193. -191. -191. -191. -191. -191. -191. -191.\n",
      " -191. -191. -191. -191. -191. -191. -191. -191. -191. -191. -191. -191.\n",
      " -191. -191. -191. -191. -191. -191. -191. -191. -191. -191. -191. -191.]\n"
     ]
    }
   ],
   "source": [
    "SAMPLE_DIR = \"samples/obs/20250503_051815\"\n",
    "OBS_JSON = \"obs_step_0_0_0.json\"\n",
    "\n",
    "INFO_DIR = \"samples/info/20250503_051815\"\n",
    "INFO_JSON = \"info_step_0_0.json\"\n",
    "\n",
    "with open(f\"{INFO_DIR}/{INFO_JSON}\", \"r\") as f:\n",
    "    info = json.load(f)\n",
    "\n",
    "with open(f\"{SAMPLE_DIR}/{OBS_JSON}\", \"r\") as f:\n",
    "    obs = json.load(f)\n",
    "\n",
    "entities_spawned = info.get(\"entities_spawned\")\n",
    "print(entities_spawned)\n",
    "entities_observed = np.array(ast.literal_eval(obs[\"rays\"][\"entity_name\"]))\n",
    "traced_block_x = np.array(ast.literal_eval(obs[\"rays\"][\"traced_block_x\"]))\n",
    "traced_block_y = np.array(ast.literal_eval(obs[\"rays\"][\"traced_block_y\"]))\n",
    "traced_block_z = np.array(ast.literal_eval(obs[\"rays\"][\"traced_block_z\"]))\n",
    "entity_1_idx = np.where(entities_observed == entities_spawned[0])[0]\n",
    "entity_2_idx = np.where(entities_observed == entities_spawned[1])[0]\n",
    "print(f\"Entity 1:\\nx: {traced_block_x[entity_1_idx]} y: {traced_block_y[entity_1_idx]} z: {traced_block_z[entity_1_idx]}\")\n",
    "print(f\"Entity 2:\\nx: {traced_block_x[entity_2_idx]} y: {traced_block_y[entity_2_idx]} z: {traced_block_z[entity_2_idx]}\")"
   ]
  },
  {
   "cell_type": "code",
   "execution_count": 16,
   "metadata": {},
   "outputs": [
    {
     "name": "stdout",
     "output_type": "stream",
     "text": [
      "Entity 1 mode coordinate: [1948.   65. -198.]\n",
      "Entity 2 mode coordinate: [1946.   66. -191.]\n"
     ]
    }
   ],
   "source": [
    "def get_entity_mode_coords(x_array, y_array, z_array, indices):\n",
    "    if len(indices) == 0:\n",
    "        return None\n",
    "\n",
    "    # Stack coordinates as rows of (x, y, z)\n",
    "    coords = np.stack([\n",
    "        x_array[indices],\n",
    "        y_array[indices],\n",
    "        z_array[indices]\n",
    "    ], axis=1)\n",
    "\n",
    "    # Convert to tuples so mode works across rows\n",
    "    coord_tuples = [tuple(coord) for coord in coords]\n",
    "\n",
    "    # Get mode\n",
    "    mode_coord, count = mode(coord_tuples, axis=0, keepdims=False)\n",
    "    return mode_coord\n",
    "\n",
    "coord1 = get_entity_mode_coords(traced_block_x, traced_block_y, traced_block_z, entity_1_idx)\n",
    "coord2 = get_entity_mode_coords(traced_block_x, traced_block_y, traced_block_z, entity_2_idx)\n",
    "\n",
    "print(f\"Entity 1 mode coordinate: {coord1}\")\n",
    "print(f\"Entity 2 mode coordinate: {coord2}\")"
   ]
  },
  {
   "cell_type": "code",
   "execution_count": null,
   "metadata": {},
   "outputs": [],
   "source": [
    "SAMPLE_DIR = \"samples/obs/20250303_140115\"\n",
    "OBS_JSON = \"obs_step_0_0_0.json\"\n",
    "\n",
    "with open(f\"{SAMPLE_DIR}/{OBS_JSON}\", \"r\") as f:\n",
    "    obs = json.load(f)\n",
    "obs.get(\"life_stats\").get(\"oxygen\")"
   ]
  },
  {
   "cell_type": "code",
   "execution_count": 1,
   "metadata": {},
   "outputs": [
    {
     "ename": "NameError",
     "evalue": "name 'obs' is not defined",
     "output_type": "error",
     "traceback": [
      "\u001b[0;31m---------------------------------------------------------------------------\u001b[0m",
      "\u001b[0;31mNameError\u001b[0m                                 Traceback (most recent call last)",
      "Cell \u001b[0;32mIn[1], line 1\u001b[0m\n\u001b[0;32m----> 1\u001b[0m voxels \u001b[38;5;241m=\u001b[39m \u001b[43mobs\u001b[49m\u001b[38;5;241m.\u001b[39mget(\u001b[38;5;124m\"\u001b[39m\u001b[38;5;124mvoxels\u001b[39m\u001b[38;5;124m\"\u001b[39m)\n\u001b[1;32m      2\u001b[0m \u001b[38;5;28mprint\u001b[39m(voxels\u001b[38;5;241m.\u001b[39mkeys())\n\u001b[1;32m      3\u001b[0m block_names \u001b[38;5;241m=\u001b[39m voxels\u001b[38;5;241m.\u001b[39mget(\u001b[38;5;124m\"\u001b[39m\u001b[38;5;124mblock_name\u001b[39m\u001b[38;5;124m\"\u001b[39m)\n",
      "\u001b[0;31mNameError\u001b[0m: name 'obs' is not defined"
     ]
    }
   ],
   "source": [
    "voxels = obs.get(\"voxels\")\n",
    "print(voxels.keys())\n",
    "block_names = voxels.get(\"block_name\")\n",
    "block_list = eval(block_names)\n",
    "block_array = np.array(block_list)\n",
    "print(block_array)"
   ]
  },
  {
   "cell_type": "code",
   "execution_count": null,
   "metadata": {},
   "outputs": [],
   "source": [
    "block_array.shape\n",
    "# 5 voxel size"
   ]
  },
  {
   "cell_type": "code",
   "execution_count": null,
   "metadata": {},
   "outputs": [],
   "source": [
    "block_array[0][0][0]"
   ]
  },
  {
   "cell_type": "code",
   "execution_count": null,
   "metadata": {},
   "outputs": [],
   "source": [
    "block_array[5][5][5]"
   ]
  },
  {
   "cell_type": "code",
   "execution_count": null,
   "metadata": {},
   "outputs": [],
   "source": [
    "for i in range(11):\n",
    "    print(block_array[i][i][i])"
   ]
  },
  {
   "cell_type": "code",
   "execution_count": null,
   "metadata": {},
   "outputs": [],
   "source": [
    "block_array[5][5][5]"
   ]
  },
  {
   "cell_type": "code",
   "execution_count": null,
   "metadata": {},
   "outputs": [],
   "source": [
    "block_meta = voxels.get(\"block_meta\")\n",
    "block_meta_list = eval(block_meta)\n",
    "block_meta_array = np.array(block_meta_list)\n",
    "print(block_meta_array.shape)"
   ]
  },
  {
   "cell_type": "code",
   "execution_count": null,
   "metadata": {},
   "outputs": [],
   "source": [
    "print(block_array[0][0][0])\n",
    "print(block_meta_array[0][0][0])"
   ]
  },
  {
   "cell_type": "code",
   "execution_count": null,
   "metadata": {},
   "outputs": [],
   "source": [
    "import numpy as np\n",
    "def sample_entity_locations(num_entities, x_range=(-5, 5), z_range=(5, 12), height=3):\n",
    "    locations = set()\n",
    "\n",
    "    while len(locations) < num_entities:\n",
    "        x = np.random.randint(x_range[0], x_range[1])\n",
    "        z = np.random.randint(z_range[0], z_range[1])\n",
    "        pos = (x, z)\n",
    "\n",
    "        if pos not in locations:\n",
    "            locations.add(pos)\n",
    "\n",
    "    return [np.array([x, height, z]) for x, z in locations]\n"
   ]
  },
  {
   "cell_type": "code",
   "execution_count": null,
   "metadata": {},
   "outputs": [],
   "source": [
    "sample_entity_locations(4)"
   ]
  },
  {
   "cell_type": "code",
   "execution_count": 6,
   "metadata": {},
   "outputs": [
    {
     "name": "stdout",
     "output_type": "stream",
     "text": [
      "0, 0, 0\n",
      "1, 1, 1\n"
     ]
    }
   ],
   "source": [
    "biomes_count = 2\n",
    "trajectories_count = 50\n",
    "frames_count = 16\n",
    "for biome, trajectory, frame in zip(range(biomes_count), range(trajectories_count), range(frames_count)):\n",
    "    print(f\"{biome}, {trajectory}, {frame}\")\n",
    "    "
   ]
  },
  {
   "cell_type": "code",
   "execution_count": 4,
   "metadata": {},
   "outputs": [
    {
     "name": "stdout",
     "output_type": "stream",
     "text": [
      "[0, 1, 2, 3, 4]\n"
     ]
    }
   ],
   "source": [
    "print(list(range(5)))"
   ]
  },
  {
   "cell_type": "code",
   "execution_count": 1,
   "metadata": {},
   "outputs": [],
   "source": [
    "import math, random, numpy as np\n",
    "\n",
    "def sample_entity_locations(num_entities,\n",
    "                            z_range=(3, 12),\n",
    "                            half_hfov_deg=52,\n",
    "                            height=3):\n",
    "    half_hfov_rad = math.radians(half_hfov_deg)\n",
    "    locations = set()\n",
    "\n",
    "    while len(locations) < num_entities:\n",
    "        # 1) depth (forward distance)\n",
    "        z = random.randint(z_range[0], z_range[1])\n",
    "\n",
    "        # 2) horizontal angle within FOV wedge\n",
    "        alpha = random.uniform(-half_hfov_rad, half_hfov_rad)\n",
    "\n",
    "        # 3) project to x and clamp safely\n",
    "        x_f = z * math.tan(alpha)          # real-valued offset\n",
    "        x_i = int(round(x_f))              # grid coordinate\n",
    "\n",
    "        x_max = int(math.floor(z * math.tan(half_hfov_rad - 1e-6)))\n",
    "        x_i = max(-x_max, min(x_i, x_max)) # clamp to legal range\n",
    "\n",
    "        if (x_i, z) not in locations:\n",
    "            locations.add((x_i, z))\n",
    "\n",
    "    return [np.array([x_i, height, z]) for x_i, z in locations]"
   ]
  },
  {
   "cell_type": "code",
   "execution_count": 3,
   "metadata": {},
   "outputs": [
    {
     "name": "stdout",
     "output_type": "stream",
     "text": [
      "[array([-8,  3, 12]), array([-4,  3,  4]), array([ 8,  3, 10]), array([-1,  3,  4])]\n"
     ]
    }
   ],
   "source": [
    "print(sample_entity_locations(4))"
   ]
  },
  {
   "cell_type": "code",
   "execution_count": 4,
   "metadata": {},
   "outputs": [
    {
     "name": "stdout",
     "output_type": "stream",
     "text": [
      "[-52 -50 -48 -46 -44 -42 -40 -38 -36 -34 -32 -30 -28 -26 -24 -22 -20 -18\n",
      " -16 -14 -12 -10  -8  -6  -4  -2   0   2   4   6   8  10  12  14  16  18\n",
      "  20  22  24  26  28  30  32  34  36  38  40  42  44  46  48  50  52]\n"
     ]
    }
   ],
   "source": [
    "print(np.arange(-52, 53, 2))"
   ]
  },
  {
   "cell_type": "code",
   "execution_count": 10,
   "metadata": {},
   "outputs": [
    {
     "name": "stdout",
     "output_type": "stream",
     "text": [
      "0\n"
     ]
    }
   ],
   "source": [
    "print(random.randint(0, 2))"
   ]
  },
  {
   "cell_type": "code",
   "execution_count": null,
   "metadata": {},
   "outputs": [],
   "source": []
  }
 ],
 "metadata": {
  "kernelspec": {
   "display_name": "minedojo-3",
   "language": "python",
   "name": "python3"
  },
  "language_info": {
   "codemirror_mode": {
    "name": "ipython",
    "version": 3
   },
   "file_extension": ".py",
   "mimetype": "text/x-python",
   "name": "python",
   "nbconvert_exporter": "python",
   "pygments_lexer": "ipython3",
   "version": "3.9.19"
  }
 },
 "nbformat": 4,
 "nbformat_minor": 2
}
